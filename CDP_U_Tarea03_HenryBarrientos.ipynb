{
 "cells": [
  {
   "cell_type": "markdown",
   "id": "introductory-profession",
   "metadata": {},
   "source": [
    "Universidad Galileo  \n",
    "Maestría en Data Science  \n",
    "Ciencia de datos en Python  \n",
    "Sección U  \n",
    "\n",
    "\n",
    "   # **FUNCIONES EN PYTHON**\n",
    "\n",
    "\n",
    "<p style=\"text-align: right;\">\n",
    "Henry Giovanni<br/>\n",
    "Barrientos García<br/>\n",
    "21001835<br/>\n",
    "Guatemala, 22 de febrero de 2021<br/>\n",
    "</p>"
   ]
  },
  {
   "cell_type": "markdown",
   "id": "obvious-purpose",
   "metadata": {},
   "source": [
    "# **FUNCIONES EN PYTHON**\n",
    "Por definición, en programación, una función es un bloque de código que retorna un valor u objeto.  \n",
    "Las funciones tanto en Python como en cualquier lenguaje de programación son secciones de código que agrupan funcionalidades que son repetitivas o que simplemente proveen orden al código de programación.  \n",
    "En términos de programación, en Python una estructura de código de bloque que es a su vez un miembro de una clase puede o no devolver un valor, por lo que dependiendo de esto, algunos podrían catalogarlo como una función o un procedimiento.  \n",
    "Python utilizar el concepto de bloques para definir las partes en que se dividen los componentes de una clase o métodos.  \n",
    "Ventajas o razones para usar funciones:\n",
    "+ Ayudan a dividir el código en bloques funcionales.\n",
    "+ Permiten ordenar el código.\n",
    "+ Hacen ver el código más legible.\n",
    "+ Permiten reutilizar codigo.\n",
    "+ Es la forma más común y conveniente de compartir código.\n",
    "\n",
    "Sintaxis de una función en Python:\n",
    "\n",
    "``` python\n",
    "def nombre_funcion (opcional_parametro1, opcional_parametro_n):\n",
    "    opcional_valor_retorno = \"Acá se ejecutan acciones u otros bloques de código\"\n",
    "    print(opcional_valor_retorno)\n",
    "    # La sentencia return es opcional, dependiendo de las necesidades del bloque de la función\n",
    "    return opcional_valor_retorno\n",
    "\n",
    "```\n"
   ]
  },
  {
   "cell_type": "markdown",
   "id": "level-jacket",
   "metadata": {},
   "source": [
    "# **PARÁMETROS POSICIONALES**\n",
    "Esta es la forma tradicional de envío de parametros a una función en la mayoría de lenguajes de programación, es decir, la función o procedimiento recibe los parametros en el mismo orden en que los tiene posicionados en su definición.  \n",
    "Aunque existen otras, en Python enviar parametros por posición a una función es una de las formas de hacerlo. Acá el orden es importante pues puede afectar el resultado.  \n",
    "A continuación algunos ejemplos:"
   ]
  },
  {
   "cell_type": "code",
   "execution_count": 3,
   "id": "paperback-fountain",
   "metadata": {},
   "outputs": [],
   "source": [
    "def do_pow(base, exp):\n",
    "    return base**exp"
   ]
  },
  {
   "cell_type": "code",
   "execution_count": 4,
   "id": "posted-midnight",
   "metadata": {},
   "outputs": [
    {
     "name": "stdout",
     "output_type": "stream",
     "text": [
      "243\n"
     ]
    }
   ],
   "source": [
    "print(do_pow(3, 5))"
   ]
  },
  {
   "cell_type": "code",
   "execution_count": 5,
   "id": "running-queue",
   "metadata": {},
   "outputs": [
    {
     "name": "stdout",
     "output_type": "stream",
     "text": [
      "125\n"
     ]
    }
   ],
   "source": [
    "print(do_pow(5, 3))"
   ]
  },
  {
   "cell_type": "markdown",
   "id": "architectural-fusion",
   "metadata": {},
   "source": [
    "Como vemos, aunque se envían los mismos valores, pero en diferente orden, eso hace que se obtenga un resultado diferente."
   ]
  },
  {
   "cell_type": "markdown",
   "id": "combined-sculpture",
   "metadata": {},
   "source": [
    "# **PARÁMETROS NOMBRADOS**\n",
    "Personalmente es la primera vez que veo esto en un lenguaje de programación. Y es que Python también tiene una forma más conveniente, y podriamos decir clara, de enviar parámetros y esto es por medio de su nombre. En esta forma de enviar parámetros, a cada valor que se envía al hacer el llamado de la función, se le debe poner su nombre el signo igual y el valor que queremos enviar.  \n",
    "Sintaxis de llamada a una función por medio de parámetros nombrados:\n",
    "~~~ python\n",
    "# Llamada a función con parametros nombrados en orden\n",
    "valor_recepcion = nombre_funcion(nombre_parametro1 = valor1, nombre_parametro2 = valor2, ..., parametro_n = valor_n)\n",
    "\n",
    "# Llamada a función con parametros nombrados sin orden\n",
    "valor_recepcion = nombre_funcion(nombre_parametro3 = valor3, nombre_parametro1 = valor1, ..., parametro_n = valor_n)\n",
    "~~~\n",
    "\n",
    "A continuación, veremos algunos ejemplos siguiendo con la utilización de la función que definimos en una celda anterior:"
   ]
  },
  {
   "cell_type": "code",
   "execution_count": 6,
   "id": "danish-tobacco",
   "metadata": {},
   "outputs": [
    {
     "name": "stdout",
     "output_type": "stream",
     "text": [
      "243\n"
     ]
    }
   ],
   "source": [
    "print(do_pow(base=3, exp=5))"
   ]
  },
  {
   "cell_type": "code",
   "execution_count": 7,
   "id": "radical-knight",
   "metadata": {},
   "outputs": [
    {
     "name": "stdout",
     "output_type": "stream",
     "text": [
      "243\n"
     ]
    }
   ],
   "source": [
    "print(do_pow(exp=5, base=3))"
   ]
  },
  {
   "cell_type": "markdown",
   "id": "static-raising",
   "metadata": {},
   "source": [
    "Como vemos en las dos celdas anteriores, aunque el orden de los valores no es el mismo, el haberlos nombrado hace que nos devuelva el mismo valor."
   ]
  },
  {
   "cell_type": "markdown",
   "id": "spiritual-understanding",
   "metadata": {},
   "source": [
    "# **RETORNO DE MULTIPLES VALORES**\n",
    "Aparte de poder retornar valores puntuales o simples, también en Python existe la posibilidad de retornar valores compuestos o podriamos llamarles complejos. Esta es una capacidad que ha existido en casi todos los lenguajes de programación desde sus inicios.  \n",
    "Especificamente en Python esto se logra retornando estructuras de datos, colecciones u objetos. A continuación se muestran algunos ejemplos de como hacerlo para los distintos casos que abarca Python:"
   ]
  },
  {
   "cell_type": "code",
   "execution_count": 13,
   "id": "material-criterion",
   "metadata": {},
   "outputs": [
    {
     "name": "stdout",
     "output_type": "stream",
     "text": [
      "Firulais\n",
      "Ataque! guau guau\n"
     ]
    }
   ],
   "source": [
    "###\n",
    "# Usando objetos\n",
    "###\n",
    "class Perro:\n",
    "    def __init__(self, nombre, edad):\n",
    "        self.nombre = nombre\n",
    "        self.edad = edad\n",
    "  \n",
    "    def ladrar(self): \n",
    "        return \"guau guau\"\n",
    "\n",
    "# Funcion que devuelve un objeto\n",
    "def get_mascota():\n",
    "    return Perro(\"Firulais\", 3)\n",
    "\n",
    "mascota = get_mascota()\n",
    "print(mascota.nombre)\n",
    "print(\"Ataque!\", mascota.ladrar()) "
   ]
  },
  {
   "cell_type": "code",
   "execution_count": 21,
   "id": "dominican-continuity",
   "metadata": {},
   "outputs": [
    {
     "name": "stdout",
     "output_type": "stream",
     "text": [
      "- Que edad tiene Firulais\n",
      "- Ya tiene 3 años\n"
     ]
    }
   ],
   "source": [
    "###\n",
    "# Usando diccionario\n",
    "###\n",
    "def get_mascota_asdict():\n",
    "    return {\"nombre\":\"Firulais\", \"edad\":3, \"ladrar\":\"guau guau\"}\n",
    "\n",
    "mascota = get_mascota_asdict()\n",
    "print(\"- Que edad tiene\", mascota[\"nombre\"])\n",
    "print(\"- Ya tiene\", mascota[\"edad\"], \"años\")"
   ]
  },
  {
   "cell_type": "code",
   "execution_count": 18,
   "id": "complimentary-bachelor",
   "metadata": {},
   "outputs": [
    {
     "name": "stdout",
     "output_type": "stream",
     "text": [
      "['Firulais', 3, 'guau guau']\n"
     ]
    }
   ],
   "source": [
    "###\n",
    "# Usando listas\n",
    "###\n",
    "def get_mascota_aslist():\n",
    "    return [\"Firulais\", 3, \"guau guau\"]\n",
    "\n",
    "mascota = get_mascota_aslist()\n",
    "print(mascota)"
   ]
  },
  {
   "cell_type": "code",
   "execution_count": 20,
   "id": "veterinary-database",
   "metadata": {},
   "outputs": [
    {
     "name": "stdout",
     "output_type": "stream",
     "text": [
      "Firulais\n",
      "Ataque! guau guau\n"
     ]
    }
   ],
   "source": [
    "###\n",
    "# Usando tuplas\n",
    "###\n",
    "def get_mascota_astupla():\n",
    "    return (\"Firulais\", 3, \"guau guau\")\n",
    "\n",
    "mascota = get_mascota_astupla()\n",
    "print(mascota[0])\n",
    "print(\"Ataque!\", mascota[2]) "
   ]
  },
  {
   "cell_type": "markdown",
   "id": "overhead-elder",
   "metadata": {},
   "source": [
    "## **FUNCIONES COMO OBJETOS Y COMO PARÁMETROS DE OTRAS FUNCIONES**\n",
    "Python tiene la característica de ser muy versatil en cuanto a la forma de tratar todos sus bloques de código. Y es que esta es una de las proposiciones que lo han hecho tan famoso y utilizado en los últimos años, dado que en Python todo es un objeto, y sí, eso incluye las funciones.   \n",
    "En Python que una función sea un objeto significa que:\n",
    "* Tiene un tipo\n",
    "* Se pueden enviar como argumento/parámetro de otra función\n",
    "* Puede ser usada como una expresión\n",
    "* Puede ser parte de varios tipos de estructuras de datos\n",
    "\n",
    "Al enviar funciones como parametros, estas funciones pueden ser funciones nativas de Python o funciones que nosotros mismos hemos definido. A continuación veremos algunos ejemplos."
   ]
  },
  {
   "cell_type": "code",
   "execution_count": 28,
   "id": "smoking-stereo",
   "metadata": {},
   "outputs": [
    {
     "name": "stdout",
     "output_type": "stream",
     "text": [
      "['item1', 'item2', 'item3', 'item4', 'item5']\n"
     ]
    }
   ],
   "source": [
    "#\n",
    "# Ejemplo de envio de una función de Python enviada como parametro\n",
    "#\n",
    "def get_order(undict, f_order):\n",
    "    return f_order(undict)\n",
    "\n",
    "midict = {\"item3\":\"Estados Unidos\", \"item4\":\"Mexico\", \"item1\":\"Alaska\", \"item2\":\"Canadá\", \"item5\":\"Guatemala\"}\n",
    "print(get_order(midict, sorted))"
   ]
  },
  {
   "cell_type": "code",
   "execution_count": 25,
   "id": "lyric-devices",
   "metadata": {},
   "outputs": [
    {
     "name": "stdout",
     "output_type": "stream",
     "text": [
      "4\n"
     ]
    }
   ],
   "source": [
    "#\n",
    "# Ejemplo de envio de una función propia enviada como parametro a otra función\n",
    "#\n",
    "def funcion_oculta(lista):\n",
    "    count = 0\n",
    "    for item in lista:\n",
    "        count+=1\n",
    "    return count\n",
    "        \n",
    "def get_tamanio(lista, fun_tamanio):\n",
    "    return fun_tamanio(lista)\n",
    "\n",
    "lista = [\"Hola\", \"mundo\", \"binario\", \"dedos\"]\n",
    "print(get_tamanio(lista, funcion_oculta))"
   ]
  },
  {
   "cell_type": "markdown",
   "id": "collective-japanese",
   "metadata": {},
   "source": [
    "# **FUNCIONES ANÓNIMAS O LAMBDA**\n",
    "En Python una función anónima es una función que no tiene un nombre que la identifique. Las funciones Lambda son una parte importante de la programación funcional que le permite a los desarrolladores escribir funciones desechables sin necesidad de nombrarlas. Esto hace mas rapida la programación y brinda una gran versatilidad en cuanto a la cantidad de codigo generado y la legibilidad del mismo. A continuación se muestra un ejemplo de una función lambda."
   ]
  },
  {
   "cell_type": "code",
   "execution_count": 31,
   "id": "foreign-grave",
   "metadata": {},
   "outputs": [
    {
     "name": "stdout",
     "output_type": "stream",
     "text": [
      "[(2, 0), (9, 0), (1, 3), (5, 8), (8, 9)]\n"
     ]
    }
   ],
   "source": [
    "p = [(8, 9), (1, 3), (2, 0), (5, 8), (9, 0)] \n",
    "\n",
    "q = sorted(p, key=lambda x: x[0]*x[1]) \n",
    "print(q) "
   ]
  }
 ],
 "metadata": {
  "kernelspec": {
   "display_name": "Python 3",
   "language": "python",
   "name": "python3"
  },
  "language_info": {
   "codemirror_mode": {
    "name": "ipython",
    "version": 3
   },
   "file_extension": ".py",
   "mimetype": "text/x-python",
   "name": "python",
   "nbconvert_exporter": "python",
   "pygments_lexer": "ipython3",
   "version": "3.8.5"
  }
 },
 "nbformat": 4,
 "nbformat_minor": 5
}
