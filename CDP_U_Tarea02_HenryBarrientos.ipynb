{
 "cells": [
  {
   "cell_type": "markdown",
   "id": "dominican-reliance",
   "metadata": {},
   "source": [
    "Universidad Galileo  \n",
    "Maestría en Data Science  \n",
    "Ciencia de datos en Python  \n",
    "Sección U  \n",
    "\n",
    "\n",
    "<center><h1>GIT Y CONTROL DE VERSIONES</h1></center>\n",
    "\n",
    "\n",
    "<p style=\"text-align: right;\">\n",
    "Henry Giovanni<br/>\n",
    "Barrientos García<br/>\n",
    "21001835<br/>\n",
    "Guatemala, 10 de febrero de 2021<br/>\n",
    "</p>"
   ]
  },
  {
   "cell_type": "markdown",
   "id": "planned-proceeding",
   "metadata": {},
   "source": [
    "<center><h1>GIT Y CONTROL DE VERSIONES</h1></center>\n",
    "<hr/>"
   ]
  },
  {
   "cell_type": "markdown",
   "id": "spread-cloud",
   "metadata": {},
   "source": [
    "<center><h1>RESUMEN</h1></center>  \n",
    "\n",
    "Git modela su versionado como una colección de archivo y carpetas con un nivel padre, a todo este conjunto le llama instantanea (*snapshot*), que es el árbol de nivel superior que se está rastreando.  \n",
    "En Git un archivo se conoce como *blob* y un directorio como *tree* (éste puede contener otros directorios dentro de sí).  \n",
    "Una instantanea es hijo de una o mas instantaneas, esto es así porque git no funciona de manera linear, así en cualquier momento podemos tenes una instantanea que es \"hija\" de la unión de otras dos instantaneas. Una instantanes se genera luego de cada **commit**.  \n",
    "Rama (*branch*), es como se le conoce a la creación de un nuevo *tree* donde se crea una nueva funcionalidad, separada y sin afectar la rama principal.  \n",
    "Una forma simple de ver el modelo de datos de git, es asumiendo que los blob, trees y commits son objetos y a cada vez que se crea uno de estos se crea con un identificador de tipo SHA1.  \n",
    "SHA1 (Secure Hash Algorithm), es un algoritmo de cifrado de una vía que genera cifrados en código hexadecimal de 40 caracteres de longitud. Este algoritmo fue desarrollado por la NSA (National Security Agency) de Estados Unidos.  \n",
    "Mediante el hash propio de cada objeto, cada uno tiene referencia a los objetos que contiene dentro de sí, si es un directorio o árbol; o a su contenido texto/bytes si es un archivo (*blob*).  \n",
    "Las referencias son una forma fácil de identificar y/o recordar un commit. Este es un número SHA corto, pues el original es dificil de manejar y recordar, dado que son 40 caracteres. Adicionalmente existe una referencia especial llamada HEAD, que nos indica dónde nos encontramos en el momento actual.  \n",
    "Un repositorio en GIT es el espacio donde se almacenan los objetos, referencias e instantaneas de un proyecto.  \n",
    "El stagging area es un lugar abstracto donde se encuentran los cambios que se han agregado con el comando *git add*, pero que aún no se han agregado al repositorio (con el comando *git commit*). Esto nos permite tener cambios que están \"semiconfirmados\", es decir, separados del área de trabajo y del área de repositorio.  \n"
   ]
  },
  {
   "cell_type": "markdown",
   "id": "protecting-contemporary",
   "metadata": {},
   "source": [
    "<center><h1>COMENTARIOS</h1></center>\n",
    "\n",
    "Git es una herramienta poderosa para el manejo de versiones. Muchos hemos cometido el error de aprender los comandos básicos de funcionamiento, que no está mal, sin embargo, git ofrece una variedad de comandos que se convierten en herramientas para recuperar versiones, para revisión de cambios, para deshacer modificaciones, para realizar auditorias y encontrar responsables de sucesos, para automatizar tareas en repositorios remotos, etc.  \n",
    "\n",
    "Como desarrolladores, gestores o participantes de proyectos es importante conocer todo lo que git provee como herramienta y también reconocer que no es necesario, quizá, aprender tantos comandos, pues también existen varias herramientas gráficas que proveen las mismas funcionalidades."
   ]
  },
  {
   "cell_type": "markdown",
   "id": "leading-dispatch",
   "metadata": {},
   "source": [
    "<center><h1>CONCLUSIONES</h1></center>\n",
    "\n",
    "Git es un sistema de control de versiones que nos provee la posibilidad de llevar un control sobre proyectos del tipo que sea. Tiene grandes ventajas, entre ellas la posibilidad de colaboración entre varias personas al tener un repositorio remoto. Git nació como una necesidad de un programador de nombre Linus Torvalds, quien al verse \"acorralado\", porque le iban a empezar a cobrar por un servicio de seguimiento de versiones, decidió crear su propio sistema de versiones.  \n",
    "\n",
    "Es importante, no solo aprender los comandos, sino comprender cómo funcionan a nivel interno y clarificar que es lo que sucede al ejecutar cada uno de estos.  \n",
    "Llama la atención cómo git utiliza para identificar sus instantaneas, un código hash, en específico uno generado con el algoritmo SHA1, el cual se genera a partir del titulo/comentario del comando commit y del contenido que se agregue al repositorio, esto significa que en cada ejecución del comando commit, se genera un código hash único. Adicional al código hash principal, de 40 caracteres, se genera un código hash mas corto y manejable para la realización de ciertas acciones mediante los comandos de git.  \n",
    "\n",
    "Una particularidad importante que le da una ventaja a git es el manejo de sus áreas de trabajo:\n",
    "1. **working directory**: que es el área de trabajo donde estan los archivos nuevos, eliminados y modificaciones en contenido de archivos. Acá se encuentra todo aquello a lo que no se le ha aplicado el comango git add.\n",
    "2. **stagging area**: es el área de preparación, acá se encuentra todo lo que ya fue agregado con el comando git add, pero que aún no se ha agregado al repositorio.\n",
    "3. **repository**: es el área definitiva de los cambios hechos, es donde se almacenan definitivamente los cambios y una vez que se ingresan a esta area, es donde se genera el código hash que los identifica."
   ]
  },
  {
   "cell_type": "markdown",
   "id": "worst-brass",
   "metadata": {},
   "source": [
    "<center><h1>COMANDOS</h1></center>\n",
    "\n",
    "**BÁSICOS**\n",
    "* git help <command>: devuelve información sobre el funcionamiento de un comango\n",
    "* git init: crea un nuevo repositorio git y la información la guarda en el directorio .git\n",
    "* git status: muestra el estado de cambios del directorio\n",
    "* git add <filename>: agrega archivos al _staging area_\n",
    "* git commit: crea un nuevo commit\n",
    "* git log: muestra de forma simpe, un historial\n",
    "* git log --all --graph --decorate: muestra un historial como un DAG\n",
    "* git diff <filename>: muestra los cambios relativos a lo que hay en _staging area_\n",
    "* git diff <revision> <filename>: muestra los cambios de un archivo entre distintas instantaneas\n",
    "* git checkout <revision>: actualiza el HEAD y la rama actual\n",
    "\n",
    "**RAMAS E INTEGRACIONES**\n",
    "* git branch: muestra las ramas del repositorio\n",
    "* git branch <name>: crea una nueva rama\n",
    "* git checkout -b <name>: crea una nueva rama y se situa dentro de ella\n",
    "* git merge <revision>: integra los cambios de la revisión indicada en la rama actual\n",
    "* git mergetool: provee una herramienta mas amigable para la resolución de conflictos\n",
    "* git rebase: obvia un conjunto de cambios en una nueva base\n",
    "\n",
    "**REMOTO**\n",
    "* git remote: lista las ramas remotas\n",
    "* git remote add <name> <url>: agrega un nuevo repositorio remoto\n",
    "* git push <remote> <local branch>:<remote branch>: envia objetos y cambios al repositorio remoto y actualiza la referencia remota\n",
    "* git branch --set-upstream-to=<remote>/<remote branch>: crea un nuevo branch en el repositorio remoto y envía los objetos creados en el commit\n",
    "* git fetch: obtiene los objetos y referencias desde el repositorio remoto\n",
    "* git pull: obtiene cambios de todas las ramas e integra en la rama actual. Lo mismo que git fetch; git merge\n",
    "* git clone: descargar un repositorio de una ubicacion remota\n",
    "\n",
    "**DESHACER**\n",
    "* git commit --amend: edita el contenido o mensaje de un commit\n",
    "* git reset HEAD <file>: deshace los cambios en un archivo\n",
    "* git checkout -- <file>: obvia los ambios en un archivo"
   ]
  },
  {
   "cell_type": "markdown",
   "id": "contemporary-approach",
   "metadata": {},
   "source": [
    "<center><h1>EJEMPLOS</h1></center>\n"
   ]
  },
  {
   "cell_type": "markdown",
   "id": "frozen-papua",
   "metadata": {},
   "source": [
    "Comando para crear un repositorio:"
   ]
  },
  {
   "cell_type": "markdown",
   "id": "negative-shadow",
   "metadata": {},
   "source": [
    "```\n",
    "git init my_first_repository\n",
    "```"
   ]
  },
  {
   "cell_type": "markdown",
   "id": "incoming-harvest",
   "metadata": {},
   "source": [
    "Luego de crear cualquier tipo de archivo podemos agregarlo al stagging area:"
   ]
  },
  {
   "cell_type": "markdown",
   "id": "still-telephone",
   "metadata": {},
   "source": [
    "```\n",
    "git add *                (para agregar todos los cambios que existan)\n",
    "git add <nombre_archivo> (para agregar los cambios de archivos específicos)\n",
    "```"
   ]
  },
  {
   "cell_type": "markdown",
   "id": "authorized-signature",
   "metadata": {},
   "source": [
    "Para crear una instantanea, se ejecuta el comando commit, este guardará en el repositorio todo lo agregado al stagging area:"
   ]
  },
  {
   "cell_type": "markdown",
   "id": "distant-tribe",
   "metadata": {},
   "source": [
    "```\n",
    "git commit -m \"Agregar un mensaje de commit\"\n",
    "```"
   ]
  },
  {
   "cell_type": "markdown",
   "id": "middle-shame",
   "metadata": {},
   "source": [
    "Si ya tuviesemos \"conectado\" nuestro repositorio con un repositorio remoto, para enviar los cambios que tenemos en nuestro repositorio local ejecutamos el siguiente comando:"
   ]
  },
  {
   "cell_type": "markdown",
   "id": "sustained-cylinder",
   "metadata": {},
   "source": [
    "```\n",
    "git push origin:<branch_remoto>\n",
    "```"
   ]
  }
 ],
 "metadata": {
  "kernelspec": {
   "display_name": "Python 3",
   "language": "python",
   "name": "python3"
  },
  "language_info": {
   "codemirror_mode": {
    "name": "ipython",
    "version": 3
   },
   "file_extension": ".py",
   "mimetype": "text/x-python",
   "name": "python",
   "nbconvert_exporter": "python",
   "pygments_lexer": "ipython3",
   "version": "3.8.5"
  }
 },
 "nbformat": 4,
 "nbformat_minor": 5
}
