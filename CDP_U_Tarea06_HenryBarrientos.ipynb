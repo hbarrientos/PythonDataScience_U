{
 "cells": [
  {
   "cell_type": "markdown",
   "id": "lyric-finding",
   "metadata": {},
   "source": [
    "Universidad Galileo  \n",
    "Maestría en Data Science  \n",
    "Ciencia de datos en Python  \n",
    "Sección U  \n",
    "\n",
    "\n",
    "   # **INVESTIGACIÓN Y EJERCICIOS FINALES NOTEBOOKS 7 y 8**\n",
    "\n",
    "\n",
    "<p style=\"text-align: right;\">\n",
    "Henry Giovanni<br/>\n",
    "Barrientos García<br/>\n",
    "21001538<br/>\n",
    "Guatemala, 14 de abril de 2021<br/>\n",
    "</p>"
   ]
  },
  {
   "cell_type": "markdown",
   "id": "liable-basketball",
   "metadata": {},
   "source": [
    "   # INVESTIGACIÓN\n",
    "\n",
    "---"
   ]
  },
  {
   "cell_type": "markdown",
   "id": "associate-running",
   "metadata": {},
   "source": [
    "## DIFERENCIAS ENTRE numpy.array y numpy.matrix\n",
    "\n",
    "numpy.array y numpy.matrix son dos funciones de la librería numpy especializada en análisis de datos del lenguaje de programación de Python, básicamente ambas se utilizan para la creación de arrays o matrices de datos, a continuación se provee un resumen mas adecuado."
   ]
  },
  {
   "cell_type": "markdown",
   "id": "taken-rebel",
   "metadata": {},
   "source": [
    "## numpy.array\n",
    "---\n",
    "\n",
    "Estos son un tipo especial de estructura de datos. Básicamente son arrays multidimensionales o listas de tamaño fijo con elementos de similar valor. Los arrays de numpy, se han convertido en un buen sustituto de las listas en Python, esto debido a lo optimizado de su funcionamiento, a la velocidad con que se realizan sus operaciones y el poco espacio que utilizan en memoria.\n",
    "\n",
    "A continuación un ejemplo de la visualización de un array de distintas dimensiones:\n",
    "\n",
    "<img src=\"https://external-content.duckduckgo.com/iu/?u=https%3A%2F%2Fmiro.medium.com%2Fmax%2F817%2F0*y04Nh3L0aSwyGaby.png&f=1&nofb=1\" width=\"50%\" height=\"50%\">\n",
    "\n",
    "La forma típica de definir un numpy.array, con los atributos más comunes, es como se muestra a continuación (ésos valores de inicialización, son los que se toman por defecto):\n",
    "``` python\n",
    "numpy.array(object, dtype=None, copy=True, order='K', subok=False, ndmin=0)\n",
    "```\n",
    "\n",
    "Aunque existen más parámetros, en la línea anterior se muestran los más comunes y a continuación se da una breve descripción de cada uno:\n",
    "- **object:** Especifica el objeto a partir del cual se quiere construir un numpy.array\n",
    "- **dtype:** Especifica el tipo de dato para los elementos del array, es útil cuando el array se construye a partir de otras funciones \"constructoras\" de numpy.\n",
    "- **copy:** Especifica si se desea que el nuevo array va a ser una copia de la fuente o no.\n",
    "- **order:** Especifica el diseño de la memoria de la matriz.\n",
    "- **subok:** Determina si desea una subclase o una matriz de tipo de clase base.\n",
    "- **ndmin:** Indica las dimensiones deseadas del array resultante.\n",
    "\n",
    "#### **Funciones de numpy.array**\n",
    "Los arrays tienen varias funciones/atributos, pero hay unos mas importantes/usados que otros, a continuación se detallan los más comunes:\n",
    "- **size:** Devuelve el número total de elementos en el array.\n",
    "- **shape:** Devuelve \"la forma\" del array, retorna algo como (xfilas, ycolumnas, zprofundidad).\n",
    "- **dim:** Retorna el rango de la matriz, es decir, el número de dimensiones.\n",
    "- **dtype:** Muestra el tipo de dato de los elementos de la matriz.\n",
    "- **itemsize:** Retorna el tamaño, en bytes, de cada elemento del array.\n",
    "- **nbytes:** Retorna el tamaño total del array, en bytes.\n",
    "\n",
    "#### Documentación numpy.array\n",
    "La documentación completa de la función se puede encontrar acá: [numpy.array](https://numpy.org/doc/stable/reference/generated/numpy.array.html)"
   ]
  },
  {
   "cell_type": "markdown",
   "id": "elementary-steps",
   "metadata": {},
   "source": [
    "## numpy.matrix\n",
    "___\n",
    "\n",
    "La función matrix de la librería numpy, es una subclase de ndarray. Provee la posibilidad de crear matrices a partir de cadenas de texto u objetos que implementen la interfaz array, la matriz resultante es específicamente una de dos dimensiones (2D). El resultado es una matriz especializada 2D, la cual provee a programadores y científicos de datos varias operaciones que son específicas de matrices 2D. Un dato importante es que numpy.matrix define y trabaja con matrices de 2 dimensiones, no importando si estas son cuadradas o no. \n",
    "\n",
    "**Broadcasting**  \n",
    "Es la capacidad que tiene Python de replicar un vector tantas veces como sea necesario para que \"tengan la forma\" de otra matriz con la que se quiere operar, es decir, a partir de un vector se crea una matriz transitoria a partir de la cual se ejecutarán operaciones elemento a elemento con otra matriz.Python \"completa\" la matriz forzando las operaciones en los ejes donde los datos no existen.  \n",
    "Broadcasting no funciona en casos donde las dimensiones no son compatibles, por ejemplo para el caso anterior, broadcasting no hubiera funcionado si el vector tuviera 3 elementos y hubiera resultado en un error: *operands could not be broadcast together with shapes ...*\n",
    "\n",
    "**Ventajas**\n",
    "1. Ocupa menos espacio de memoria y brinda una mayor velocidad de ejecución en comparación con estructuras de datos similares de Python (listas y tuplas).\n",
    "1. Permite la ejecución de funciones científicas específicas, como la suma acumulativa de elementos, el producto acumulativo, la transposición conjugada y la inversa multiplicativa, etc. Las listas o cadenas de Python no admiten estas características u operaciones.\n",
    "\n",
    "Las matrices de numpy tienen, como ya dijimos 2 dimensiones, a continuación una imagen de su visualización:\n",
    "<img src=\"https://external-content.duckduckgo.com/iu/?u=https%3A%2F%2Fi.stack.imgur.com%2FO5hBF.jpg&f=1&nofb=1\">\n",
    "\n",
    "A continuación veremos algunos de sus propiedades y funciones más importantes.\n",
    "A continuación se muestra la definición típica de una matriz con numpy (los valores de inicialización, son los definidos por defecto):\n",
    "``` python\n",
    "numpy.matrix(data, dtype=None, copy=True)\n",
    "```\n",
    "Donde los parámetros del constructor se definen como de muestra a continuación:\n",
    "- **data:** Los datos deben tener la forma de un array, ser un objeto que implemente la interfaz array o una cadena de elemetos numéricos separada por comas.\n",
    "- **dtype:** Define el tipo de dato de la matriz retornada.\n",
    "- **copy:** Indica si los datos se copian o si se construye una nueva vista.\n",
    "\n",
    "#### Funciones de numpy.matrix\n",
    "\n",
    "Como ya hemos dicho numpy.matrix, se especializa en matrices de dos dimensiones, y dado esto tiene operaciones que son específicas de matrices de estas dimensiones.\n",
    "\n",
    "- **matrix.T:** Retorna la matriz transpuesta\n",
    "- **matrix.H:** Retorna la matriz transpuesta conjugada\n",
    "- **matrix.I:** Retorna la inversa multiplicativa\n",
    "- **matrix.A:** Devuelve la matriz original como un objeto ndarray.\n",
    "- **matrix.any():** Determina si alguno de los elementos de un eje dado es verdadero.\n",
    "- **matrix.argmax():** Devuelve los índices de los valores máximos en un eje dado.\n",
    "- **matrix.argmin():** Retorna los índices de los malores mínimos sobre el eje indicado.\n",
    "- **matrix.cumprod():** Devuelve el producto acumulado de los elementos sobre el eje en la dimensión indicada.\n",
    "- **matrix.cumsum():** Devuelve la suma acumulada de los elementos sobre el eje en la dimensión indicada.\n",
    "- **matrix.diagonal():** Retorna los elementos de la diagonal de una matriz.\n",
    "- **matrix.dot():**\tRetorna el producto punto entre dos matrices.\n",
    "\n",
    "#### Documentación de numpy.matrix\n",
    "\n",
    "La documentación se puede encontrar en el siguiente enlace:[numpy.matrix](https://numpy.org/doc/stable/reference/generated/numpy.matrix.html)\n"
   ]
  },
  {
   "cell_type": "markdown",
   "id": "critical-angola",
   "metadata": {},
   "source": [
    "**>>>EJEMPLOS DE CÓDIGO numpy.array<<<**\n",
    "___"
   ]
  },
  {
   "cell_type": "code",
   "execution_count": 1,
   "id": "heavy-bread",
   "metadata": {},
   "outputs": [
    {
     "name": "stdout",
     "output_type": "stream",
     "text": [
      "Array creado con valores random y especificando un tipo de dato:\n",
      " [[ True False  True]\n",
      " [False  True False]\n",
      " [ True False  True]]\n",
      "Array creado a partir de una lista:\n",
      " [[1 2 3]\n",
      " [9 8 7]]\n",
      "Array creado con una tupla:\n",
      " [ 8  9 10]\n"
     ]
    }
   ],
   "source": [
    "# Formas de crear un numpy.array\n",
    "import numpy as np\n",
    "\n",
    "array_f = np.ndarray(shape = (3, 3), dtype = bool)\n",
    "print(\"Array creado con valores random y especificando un tipo de dato:\\n\", array_f)\n",
    "\n",
    "array_s = np.array([[1, 2, 3], [9, 8, 7]])\n",
    "print (\"Array creado a partir de una lista:\\n\", array_s)\n",
    "\n",
    "array_t = np.array((8, 9, 10))\n",
    "print (\"Array creado con una tupla:\\n\", array_t)"
   ]
  },
  {
   "cell_type": "code",
   "execution_count": 2,
   "id": "legislative-bryan",
   "metadata": {},
   "outputs": [
    {
     "name": "stdout",
     "output_type": "stream",
     "text": [
      "nparr:\n",
      " [[ 1  2  3]\n",
      " [ 9  8  7]\n",
      " [10 20 30]]\n",
      "Tipo de objeto: <class 'numpy.ndarray'>\n",
      "Forma: (3, 3)\n",
      "No. dimensiones: 2\n",
      "Tamaño: 9\n",
      "Tipo de elemento: int32\n"
     ]
    }
   ],
   "source": [
    "\n",
    "# Crear numpy.array\n",
    "nparr = np.array([[1,2,3],[9,8,7],[10,20,30]])\n",
    "print(\"nparr:\\n\",nparr)\n",
    "\n",
    "print(\"Tipo de objeto:\", type(nparr))\n",
    "\n",
    "print(\"Forma:\", nparr.shape)\n",
    "\n",
    "print(\"No. dimensiones:\", nparr.ndim)\n",
    "\n",
    "print(\"Tamaño:\", nparr.size)\n",
    "\n",
    "print(\"Tipo de elemento:\", nparr.dtype)"
   ]
  },
  {
   "cell_type": "code",
   "execution_count": 3,
   "id": "comparable-titanium",
   "metadata": {},
   "outputs": [
    {
     "name": "stdout",
     "output_type": "stream",
     "text": [
      "Array con valores 1:\n",
      " [[1. 1. 1.]\n",
      " [1. 1. 1.]\n",
      " [1. 1. 1.]]\n",
      "Array con valores 0:\n",
      " [[0. 0. 0.]\n",
      " [0. 0. 0.]\n",
      " [0. 0. 0.]]\n",
      "Array con elementos de tipo complejo:\n",
      " [[1.+0.j 1.+0.j 1.+0.j]\n",
      " [1.+0.j 1.+0.j 1.+0.j]\n",
      " [1.+0.j 1.+0.j 1.+0.j]]\n",
      "Array especificando bufer:\n",
      " [1 2]\n",
      "Array con rango especificado:\n",
      " [ 0  1  2  3  4  5  6  7  8  9 10 11 12 13 14]\n"
     ]
    }
   ],
   "source": [
    "# Constructores especiales de arrays\n",
    "\n",
    "aones = np.ones((3, 3))\n",
    "print (\"Array con valores 1:\\n\", aones)\n",
    "\n",
    "arrzeros = np.zeros((3, 3))\n",
    "print (\"Array con valores 0:\\n\", arrzeros)\n",
    "\n",
    "arrcomp = np.full((3, 3), 1, dtype = 'complex')\n",
    "print (\"Array con elementos de tipo complejo:\\n\", arrcomp)\n",
    "\n",
    "arrbuff = np.ndarray((2,), buffer=np.array([1,2,3]), dtype=int)\n",
    "print (\"Array especificando bufer:\\n\", arrbuff)\n",
    "\n",
    "arrran = np.arange(15)\n",
    "print (\"Array con rango especificado:\\n\", arrran)"
   ]
  },
  {
   "cell_type": "code",
   "execution_count": 4,
   "id": "noble-potato",
   "metadata": {
    "scrolled": true
   },
   "outputs": [
    {
     "name": "stdout",
     "output_type": "stream",
     "text": [
      "Array 3D:\n",
      " [[[ 0  1  2  3]\n",
      "  [ 4  5  6  7]\n",
      "  [ 8  9 10 11]]\n",
      "\n",
      " [[12 13 14 15]\n",
      "  [16 17 18 19]\n",
      "  [20 21 22 23]]]\n",
      "Elemento en el indice (0,0,1):  1\n",
      "Elemento en el indice (1,2,3):  23\n",
      "Array 3D luego del cambio:\n",
      " [[[ 0  1  2  3]\n",
      "  [ 4  5  6  7]\n",
      "  [ 8  9 10 11]]\n",
      "\n",
      " [[12 13 31 15]\n",
      "  [16 17 18 19]\n",
      "  [20 21 22 23]]]\n"
     ]
    }
   ],
   "source": [
    "# Trabjando con arrays de tres dimensiones\n",
    "dimmm = np.array([\n",
    "    [[ 0,  1,  2,  3],\n",
    "    [ 4,  5,  6,  7],\n",
    "    [ 8,  9, 10, 11]],\n",
    "    [[12, 13, 14, 15],\n",
    "    [16, 17, 18, 19],\n",
    "    [20, 21, 22, 23]]\n",
    "])\n",
    "print(\"Array 3D:\\n\", dimmm)\n",
    "print(\"Elemento en el indice (0,0,1): \", dimmm[0,0,1])\n",
    "print(\"Elemento en el indice (1,2,3): \", dimmm[1,2,3])\n",
    "# Al cambiar el valor en una posicion\n",
    "dimmm[1,0,2] = 31\n",
    "print(\"Array 3D luego del cambio:\\n\", dimmm)"
   ]
  },
  {
   "cell_type": "markdown",
   "id": "heated-agenda",
   "metadata": {},
   "source": [
    "**>>> EJEMPLOS DE CÓDIGO numpy.matrix <<<**\n",
    "___"
   ]
  },
  {
   "cell_type": "code",
   "execution_count": 5,
   "id": "executed-nowhere",
   "metadata": {},
   "outputs": [
    {
     "name": "stdout",
     "output_type": "stream",
     "text": [
      "Matriz :\n",
      " [[ 9  8  1]\n",
      " [ 0  5 10]\n",
      " [ 3  3  3]]\n",
      "Matriz transpuesta:\n",
      " [[ 9  0  3]\n",
      " [ 8  5  3]\n",
      " [ 1 10  3]]\n",
      "Matriz transpuesta conjuda:\n",
      " [[ 9  0  3]\n",
      " [ 8  5  3]\n",
      " [ 1 10  3]]\n",
      "Inversa multiplicativa de matriz:\n",
      " [[-0.16666667 -0.23333333  0.83333333]\n",
      " [ 0.33333333  0.26666667 -1.        ]\n",
      " [-0.16666667 -0.03333333  0.5       ]]\n",
      "\n",
      "Índices donde están los máximos: [[0 0 1]]\n",
      "Índices donde están los mínimos: [[1 2 0]]\n",
      "Producto acumulado de los elementos:\n",
      " [[  9   8   1]\n",
      " [  0  40  10]\n",
      " [  0 120  30]]\n",
      "Suma acumulada de los elementos:\n",
      " [[ 9  8  1]\n",
      " [ 9 13 11]\n",
      " [12 16 14]]\n",
      "\n",
      "Diagonal de la matriz: [[9 5 3]]\n",
      "Producto punto de dos matrices (iguales):\n",
      " [[18 16  2]\n",
      " [ 0 10 20]\n",
      " [ 6  6  6]]\n"
     ]
    }
   ],
   "source": [
    "import numpy as np\n",
    "\n",
    "test_mat = np.matrix('9 8 1; 0 5 10; 3 3 3')\n",
    "print(\"Matriz :\\n\", test_mat)\n",
    "print(\"Matriz transpuesta:\\n\", test_mat.getT())\n",
    "print(\"Matriz transpuesta conjuda:\\n\", test_mat.getH())\n",
    "print(\"Inversa multiplicativa de matriz:\\n\",test_mat.getI())\n",
    "\n",
    "# tanto argmax, argmin, reciben el parametro axis, 0 indica operar sobre las filas\n",
    "print(\"\\nÍndices donde están los máximos:\", test_mat.argmax(0))\n",
    "print(\"Índices donde están los mínimos:\", test_mat.argmin(0))\n",
    "print(\"Producto acumulado de los elementos:\\n\", test_mat.cumprod(0))\n",
    "print(\"Suma acumulada de los elementos:\\n\", test_mat.cumsum(0))\n",
    "\n",
    "# A continuación operaciones especiales de matrices\n",
    "print(\"\\nDiagonal de la matriz:\", test_mat.diagonal(0,0,1))\n",
    "print(\"Producto punto de dos matrices (iguales):\\n\", test_mat.dot(2))"
   ]
  },
  {
   "cell_type": "markdown",
   "id": "noted-aquatic",
   "metadata": {},
   "source": [
    "## EJERCICIO NOTEBOOK 8"
   ]
  },
  {
   "cell_type": "code",
   "execution_count": 10,
   "id": "regular-norfolk",
   "metadata": {},
   "outputs": [
    {
     "name": "stdout",
     "output_type": "stream",
     "text": [
      "ReLU activation function:\n",
      " [[1.0e-01 2.0e+00]\n",
      " [3.0e-01 4.5e-01]\n",
      " [5.0e+00 9.0e+00]\n",
      " [1.2e+01 6.0e+00]\n",
      " [7.0e+00 5.0e+00]\n",
      " [3.0e-01 8.0e-01]\n",
      " [1.2e+01 5.0e+00]\n",
      " [1.0e+02 2.0e+02]\n",
      " [7.0e+00 8.0e+00]\n",
      " [3.0e+02 1.5e+03]]\n"
     ]
    }
   ],
   "source": [
    "def sigmoid(x): #convertir los valores de x al rango de 0 a 1    \n",
    "    return 1/(1 + np.exp(-x))\n",
    "\n",
    "def af_relu(x):   # implement ReLU activation function\n",
    "    return np.maximum(0, X)\n",
    "\n",
    "def neural_network_test(X):\n",
    "    H1_W = np.array([ [0.712, 0.355, 0.268], [0.112, 0.855, 0.468] ])\n",
    "    OL_W = np.array([ [0.116], [0.329], [0.708] ])\n",
    "    H1 = np.matmul(X, H1_W)\n",
    "    H1 = sigmoid(H1)  # funcion de activacion: convertir a valores en el intervalo de 0 a 1\n",
    "    OL = np.matmul(H1, OL_W)\n",
    "#     print(\"Sigmud activation function:\\n\", sigmoid(OL))\n",
    "    OL = af_relu(OL)  # convertir a valores en el intervalo de 0 a 1\n",
    "    print(\"ReLU activation function:\\n\", OL)\n",
    "\n",
    "X = np.array([[0.1, 2],\n",
    "              [0.3, 0.45],\n",
    "              [5,   9],\n",
    "              [12,  6],\n",
    "              [7,   5],\n",
    "              [0.3, 0.8],\n",
    "              [12,  5],\n",
    "              [100, 200],\n",
    "              [7,   8],\n",
    "              [300, 1500] ])\n",
    "neural_network_test( X )"
   ]
  },
  {
   "cell_type": "code",
   "execution_count": 11,
   "id": "selected-range",
   "metadata": {},
   "outputs": [
    {
     "name": "stdout",
     "output_type": "stream",
     "text": [
      "ReLU activation function:\n",
      " [[1.0e-01 2.0e+00]\n",
      " [3.0e-01 4.5e-01]\n",
      " [5.0e+00 9.0e+00]\n",
      " [1.2e+01 6.0e+00]\n",
      " [7.0e+00 5.0e+00]\n",
      " [3.0e-01 8.0e-01]\n",
      " [1.2e+01 5.0e+00]\n",
      " [1.0e+02 2.0e+02]\n",
      " [7.0e+00 8.0e+00]\n",
      " [3.0e+02 1.5e+03]]\n"
     ]
    }
   ],
   "source": [
    "def neural_network(X):\n",
    "    H1_W = np.array([[0.25, -8],\n",
    "                     [0.37, 14] ])\n",
    "    OL_W = np.array([[4],[9]])\n",
    "    H1 = np.matmul(X, H1_W)\n",
    "    H1 = sigmoid(H1)  # convertir a valores en el intervalo de 0 a 1\n",
    "    OL = np.matmul(H1, OL_W)\n",
    "#     print(\"Sigmud activation function:\\n\", sigmoid(OL))\n",
    "    OL = af_relu(OL)  # convertir a valores en el intervalo de 0 a 1\n",
    "    print(\"ReLU activation function:\\n\", OL)\n",
    "\n",
    "X = np.array([[0.1, 2],\n",
    "              [0.3, 0.45],\n",
    "              [5,   9],\n",
    "              [12,  6],\n",
    "              [7,   5],\n",
    "              [0.3, 0.8],\n",
    "              [12,  5],\n",
    "              [100, 200],\n",
    "              [7,   8],\n",
    "              [300, 1500] ])\n",
    "neural_network( X )"
   ]
  }
 ],
 "metadata": {
  "kernelspec": {
   "display_name": "Python 3",
   "language": "python",
   "name": "python3"
  },
  "language_info": {
   "codemirror_mode": {
    "name": "ipython",
    "version": 3
   },
   "file_extension": ".py",
   "mimetype": "text/x-python",
   "name": "python",
   "nbconvert_exporter": "python",
   "pygments_lexer": "ipython3",
   "version": "3.8.5"
  }
 },
 "nbformat": 4,
 "nbformat_minor": 5
}
