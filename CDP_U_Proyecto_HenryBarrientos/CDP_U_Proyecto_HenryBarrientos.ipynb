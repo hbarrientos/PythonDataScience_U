{
 "cells": [
  {
   "cell_type": "markdown",
   "id": "marked-cross",
   "metadata": {},
   "source": [
    "# PROYECTO DEL CURSO"
   ]
  },
  {
   "cell_type": "markdown",
   "id": "medium-sessions",
   "metadata": {},
   "source": [
    "### Usando sclicing con NumPy separar los datos en 2 datasets:\n",
    "* entrenamiento(80%)\n",
    "* validación y pruebas(20%) "
   ]
  },
  {
   "cell_type": "code",
   "execution_count": 19,
   "id": "micro-commerce",
   "metadata": {},
   "outputs": [
    {
     "name": "stdout",
     "output_type": "stream",
     "text": [
      "292\n"
     ]
    }
   ],
   "source": [
    "import numpy as np\n",
    "\n",
    "all_data = np.load('proyecto_data\\proyecto_training_data.npy')\n",
    "twenty_percent = int(.20 * len(all_data))\n",
    "test_data = all_data[slice(twenty_percent)]\n",
    "train_data = all_data[slice(twenty_percent, len(all_data))]"
   ]
  },
  {
   "cell_type": "markdown",
   "id": "brown-charger",
   "metadata": {},
   "source": [
    "### Análisis exploratorio de datos.\n",
    "Para cada variable en el dataset calcular:\n",
    "* Media\n",
    "* Valor máximo\n",
    "* Valor mínimo \n",
    "* Rango(peak to peak, no el rango del tensor que por ser vector sabemos que es 1)\n",
    "* Desviación estándar \n"
   ]
  },
  {
   "cell_type": "code",
   "execution_count": 56,
   "id": "tight-coral",
   "metadata": {},
   "outputs": [
    {
     "name": "stdout",
     "output_type": "stream",
     "text": [
      "[1.80717092e+05 6.09417808e+00 1.16277483e+03 6.53424658e+00\n",
      " 1.97098887e+03 6.96983299e+01]\n",
      "[7.550e+05 1.000e+01 4.692e+03 1.400e+01 2.010e+03 3.130e+02]\n",
      "[3.490e+04 1.000e+00 3.340e+02 2.000e+00 1.872e+03 2.100e+01]\n",
      "Rango:  [7.201e+05 9.000e+00 4.358e+03 1.200e+01 1.380e+02 2.920e+02]\n",
      "[8.06233216e+04 1.39766207e+00 3.93022205e+02 1.65589186e+00\n",
      " 3.03145165e+01 2.43680850e+01]\n"
     ]
    }
   ],
   "source": [
    "print ( np.nanmean(train_data, axis = 0) ) #train_data.mean(axis = 0) )\n",
    "max_arr = np.nanmax(train_data, axis = 0)\n",
    "print ( max_arr )\n",
    "min_arr = np.nanmin(train_data, axis = 0)\n",
    "print ( min_arr )\n",
    "print ( \"Rango: \", (max_arr - min_arr) )\n",
    "print ( np.nanstd(train_data, axis = 0) )\n"
   ]
  },
  {
   "cell_type": "code",
   "execution_count": 13,
   "id": "republican-drive",
   "metadata": {},
   "outputs": [
    {
     "name": "stdout",
     "output_type": "stream",
     "text": [
      "Hola\n",
      "Mundo\n"
     ]
    }
   ],
   "source": [
    "mistring = \"HolaMundo\"\n",
    "print(mistring[slice(4)])\n",
    "print(mistring[slice(4,len(mistring))])"
   ]
  }
 ],
 "metadata": {
  "kernelspec": {
   "display_name": "Python 3",
   "language": "python",
   "name": "python3"
  },
  "language_info": {
   "codemirror_mode": {
    "name": "ipython",
    "version": 3
   },
   "file_extension": ".py",
   "mimetype": "text/x-python",
   "name": "python",
   "nbconvert_exporter": "python",
   "pygments_lexer": "ipython3",
   "version": "3.9.2"
  }
 },
 "nbformat": 4,
 "nbformat_minor": 5
}
